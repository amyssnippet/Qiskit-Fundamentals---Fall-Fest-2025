{
  "cells": [
    {
      "cell_type": "markdown",
      "metadata": {
        "id": "view-in-github",
        "colab_type": "text"
      },
      "source": [
        "<a href=\"https://colab.research.google.com/github/amyssnippet/Qiskit-Fundamentals---Fall-Fest-2025/blob/main/Qiskit_fundamentals_solution.ipynb\" target=\"_parent\"><img src=\"https://colab.research.google.com/assets/colab-badge.svg\" alt=\"Open In Colab\"/></a>"
      ]
    },
    {
      "cell_type": "markdown",
      "metadata": {
        "id": "09yor9XbsxUp"
      },
      "source": [
        "# Qiskit 2 Fundamentals Lab\n",
        "\n",
        "Welcome to the Qiskit 2 Fundamentals Lab! This notebook is designed to help get up to speed on Qiskit 2 fundamentals by providing hands-on exercises for 18 core concepts.\n",
        "\n",
        "**Instructions:**\n",
        "1. Read the explanation for each concept.\n",
        "2. Complete the coding exercise in the designated cell.\n",
        "3. After attempting the exercise, you can check your answer in the _solutions notebook"
      ]
    },
    {
      "cell_type": "markdown",
      "metadata": {
        "id": "t0jHE-ZfsxUq"
      },
      "source": [
        "## Setup\n",
        "\n",
        "First, let's install and import the necessary libraries. Run the cell below."
      ]
    },
    {
      "cell_type": "code",
      "execution_count": 1,
      "metadata": {
        "id": "DpJ3m8dBsxUq",
        "colab": {
          "base_uri": "https://localhost:8080/"
        },
        "outputId": "dad5f222-f598-4396-a80d-4650f01ebbb4"
      },
      "outputs": [
        {
          "output_type": "stream",
          "name": "stdout",
          "text": [
            "Collecting qiskit-ibm-runtime\n",
            "  Downloading qiskit_ibm_runtime-0.43.1-py3-none-any.whl.metadata (21 kB)\n",
            "Collecting qiskit-aer\n",
            "  Downloading qiskit_aer-0.17.2-cp312-cp312-manylinux_2_17_x86_64.manylinux2014_x86_64.whl.metadata (8.3 kB)\n",
            "Collecting qiskit_qasm3_import\n",
            "  Downloading qiskit_qasm3_import-0.6.0-py3-none-any.whl.metadata (7.2 kB)\n",
            "Collecting qiskit[visualization]\n",
            "  Downloading qiskit-2.2.3-cp39-abi3-manylinux2014_x86_64.manylinux_2_17_x86_64.whl.metadata (12 kB)\n",
            "Collecting rustworkx>=0.15.0 (from qiskit[visualization])\n",
            "  Downloading rustworkx-0.17.1-cp39-abi3-manylinux_2_17_x86_64.manylinux2014_x86_64.whl.metadata (10 kB)\n",
            "Requirement already satisfied: numpy<3,>=1.17 in /usr/local/lib/python3.12/dist-packages (from qiskit[visualization]) (2.0.2)\n",
            "Requirement already satisfied: scipy>=1.5 in /usr/local/lib/python3.12/dist-packages (from qiskit[visualization]) (1.16.3)\n",
            "Requirement already satisfied: dill>=0.3 in /usr/local/lib/python3.12/dist-packages (from qiskit[visualization]) (0.3.8)\n",
            "Collecting stevedore>=3.0.0 (from qiskit[visualization])\n",
            "  Downloading stevedore-5.5.0-py3-none-any.whl.metadata (2.2 kB)\n",
            "Requirement already satisfied: typing-extensions in /usr/local/lib/python3.12/dist-packages (from qiskit[visualization]) (4.15.0)\n",
            "Requirement already satisfied: matplotlib>=3.3 in /usr/local/lib/python3.12/dist-packages (from qiskit[visualization]) (3.10.0)\n",
            "Requirement already satisfied: pydot in /usr/local/lib/python3.12/dist-packages (from qiskit[visualization]) (3.0.4)\n",
            "Requirement already satisfied: Pillow>=4.2.1 in /usr/local/lib/python3.12/dist-packages (from qiskit[visualization]) (11.3.0)\n",
            "Collecting pylatexenc>=1.4 (from qiskit[visualization])\n",
            "  Downloading pylatexenc-2.10.tar.gz (162 kB)\n",
            "\u001b[2K     \u001b[90m━━━━━━━━━━━━━━━━━━━━━━━━━━━━━━━━━━━━━━━\u001b[0m \u001b[32m162.6/162.6 kB\u001b[0m \u001b[31m4.2 MB/s\u001b[0m eta \u001b[36m0:00:00\u001b[0m\n",
            "\u001b[?25h  Preparing metadata (setup.py) ... \u001b[?25l\u001b[?25hdone\n",
            "Requirement already satisfied: seaborn>=0.9.0 in /usr/local/lib/python3.12/dist-packages (from qiskit[visualization]) (0.13.2)\n",
            "Requirement already satisfied: sympy>=1.3 in /usr/local/lib/python3.12/dist-packages (from qiskit[visualization]) (1.13.3)\n",
            "Requirement already satisfied: requests>=2.19 in /usr/local/lib/python3.12/dist-packages (from qiskit-ibm-runtime) (2.32.4)\n",
            "Collecting requests-ntlm>=1.1.0 (from qiskit-ibm-runtime)\n",
            "  Downloading requests_ntlm-1.3.0-py3-none-any.whl.metadata (2.4 kB)\n",
            "Requirement already satisfied: urllib3>=1.21.1 in /usr/local/lib/python3.12/dist-packages (from qiskit-ibm-runtime) (2.5.0)\n",
            "Requirement already satisfied: python-dateutil>=2.8.0 in /usr/local/lib/python3.12/dist-packages (from qiskit-ibm-runtime) (2.9.0.post0)\n",
            "Collecting ibm-platform-services>=0.22.6 (from qiskit-ibm-runtime)\n",
            "  Downloading ibm_platform_services-0.71.0-py3-none-any.whl.metadata (9.0 kB)\n",
            "Requirement already satisfied: pydantic>=2.5.0 in /usr/local/lib/python3.12/dist-packages (from qiskit-ibm-runtime) (2.11.10)\n",
            "Requirement already satisfied: packaging in /usr/local/lib/python3.12/dist-packages (from qiskit-ibm-runtime) (25.0)\n",
            "Requirement already satisfied: psutil>=5 in /usr/local/lib/python3.12/dist-packages (from qiskit-aer) (5.9.5)\n",
            "Collecting openqasm3<2.0,>=0.4 (from openqasm3[parser]<2.0,>=0.4->qiskit_qasm3_import)\n",
            "  Downloading openqasm3-1.0.1-py3-none-any.whl.metadata (6.0 kB)\n",
            "Collecting ibm_cloud_sdk_core<4.0.0,>=3.24.2 (from ibm-platform-services>=0.22.6->qiskit-ibm-runtime)\n",
            "  Downloading ibm_cloud_sdk_core-3.24.2-py3-none-any.whl.metadata (8.7 kB)\n",
            "Requirement already satisfied: contourpy>=1.0.1 in /usr/local/lib/python3.12/dist-packages (from matplotlib>=3.3->qiskit[visualization]) (1.3.3)\n",
            "Requirement already satisfied: cycler>=0.10 in /usr/local/lib/python3.12/dist-packages (from matplotlib>=3.3->qiskit[visualization]) (0.12.1)\n",
            "Requirement already satisfied: fonttools>=4.22.0 in /usr/local/lib/python3.12/dist-packages (from matplotlib>=3.3->qiskit[visualization]) (4.60.1)\n",
            "Requirement already satisfied: kiwisolver>=1.3.1 in /usr/local/lib/python3.12/dist-packages (from matplotlib>=3.3->qiskit[visualization]) (1.4.9)\n",
            "Requirement already satisfied: pyparsing>=2.3.1 in /usr/local/lib/python3.12/dist-packages (from matplotlib>=3.3->qiskit[visualization]) (3.2.5)\n",
            "Requirement already satisfied: antlr4_python3_runtime<4.14,>=4.7 in /usr/local/lib/python3.12/dist-packages (from openqasm3[parser]<2.0,>=0.4->qiskit_qasm3_import) (4.9.3)\n",
            "Requirement already satisfied: annotated-types>=0.6.0 in /usr/local/lib/python3.12/dist-packages (from pydantic>=2.5.0->qiskit-ibm-runtime) (0.7.0)\n",
            "Requirement already satisfied: pydantic-core==2.33.2 in /usr/local/lib/python3.12/dist-packages (from pydantic>=2.5.0->qiskit-ibm-runtime) (2.33.2)\n",
            "Requirement already satisfied: typing-inspection>=0.4.0 in /usr/local/lib/python3.12/dist-packages (from pydantic>=2.5.0->qiskit-ibm-runtime) (0.4.2)\n",
            "Requirement already satisfied: six>=1.5 in /usr/local/lib/python3.12/dist-packages (from python-dateutil>=2.8.0->qiskit-ibm-runtime) (1.17.0)\n",
            "Requirement already satisfied: charset_normalizer<4,>=2 in /usr/local/lib/python3.12/dist-packages (from requests>=2.19->qiskit-ibm-runtime) (3.4.4)\n",
            "Requirement already satisfied: idna<4,>=2.5 in /usr/local/lib/python3.12/dist-packages (from requests>=2.19->qiskit-ibm-runtime) (3.11)\n",
            "Requirement already satisfied: certifi>=2017.4.17 in /usr/local/lib/python3.12/dist-packages (from requests>=2.19->qiskit-ibm-runtime) (2025.10.5)\n",
            "Requirement already satisfied: cryptography>=1.3 in /usr/local/lib/python3.12/dist-packages (from requests-ntlm>=1.1.0->qiskit-ibm-runtime) (43.0.3)\n",
            "Collecting pyspnego>=0.4.0 (from requests-ntlm>=1.1.0->qiskit-ibm-runtime)\n",
            "  Downloading pyspnego-0.12.0-py3-none-any.whl.metadata (4.1 kB)\n",
            "Requirement already satisfied: pandas>=1.2 in /usr/local/lib/python3.12/dist-packages (from seaborn>=0.9.0->qiskit[visualization]) (2.2.2)\n",
            "Requirement already satisfied: mpmath<1.4,>=1.1.0 in /usr/local/lib/python3.12/dist-packages (from sympy>=1.3->qiskit[visualization]) (1.3.0)\n",
            "Requirement already satisfied: cffi>=1.12 in /usr/local/lib/python3.12/dist-packages (from cryptography>=1.3->requests-ntlm>=1.1.0->qiskit-ibm-runtime) (2.0.0)\n",
            "Requirement already satisfied: PyJWT<3.0.0,>=2.10.1 in /usr/local/lib/python3.12/dist-packages (from ibm_cloud_sdk_core<4.0.0,>=3.24.2->ibm-platform-services>=0.22.6->qiskit-ibm-runtime) (2.10.1)\n",
            "Requirement already satisfied: pytz>=2020.1 in /usr/local/lib/python3.12/dist-packages (from pandas>=1.2->seaborn>=0.9.0->qiskit[visualization]) (2025.2)\n",
            "Requirement already satisfied: tzdata>=2022.7 in /usr/local/lib/python3.12/dist-packages (from pandas>=1.2->seaborn>=0.9.0->qiskit[visualization]) (2025.2)\n",
            "Requirement already satisfied: pycparser in /usr/local/lib/python3.12/dist-packages (from cffi>=1.12->cryptography>=1.3->requests-ntlm>=1.1.0->qiskit-ibm-runtime) (2.23)\n",
            "Downloading qiskit_ibm_runtime-0.43.1-py3-none-any.whl (1.4 MB)\n",
            "\u001b[2K   \u001b[90m━━━━━━━━━━━━━━━━━━━━━━━━━━━━━━━━━━━━━━━━\u001b[0m \u001b[32m1.4/1.4 MB\u001b[0m \u001b[31m30.9 MB/s\u001b[0m eta \u001b[36m0:00:00\u001b[0m\n",
            "\u001b[?25hDownloading qiskit_aer-0.17.2-cp312-cp312-manylinux_2_17_x86_64.manylinux2014_x86_64.whl (12.4 MB)\n",
            "\u001b[2K   \u001b[90m━━━━━━━━━━━━━━━━━━━━━━━━━━━━━━━━━━━━━━━━\u001b[0m \u001b[32m12.4/12.4 MB\u001b[0m \u001b[31m72.2 MB/s\u001b[0m eta \u001b[36m0:00:00\u001b[0m\n",
            "\u001b[?25hDownloading qiskit_qasm3_import-0.6.0-py3-none-any.whl (29 kB)\n",
            "Downloading ibm_platform_services-0.71.0-py3-none-any.whl (377 kB)\n",
            "\u001b[2K   \u001b[90m━━━━━━━━━━━━━━━━━━━━━━━━━━━━━━━━━━━━━━━━\u001b[0m \u001b[32m377.4/377.4 kB\u001b[0m \u001b[31m19.8 MB/s\u001b[0m eta \u001b[36m0:00:00\u001b[0m\n",
            "\u001b[?25hDownloading openqasm3-1.0.1-py3-none-any.whl (541 kB)\n",
            "\u001b[2K   \u001b[90m━━━━━━━━━━━━━━━━━━━━━━━━━━━━━━━━━━━━━━━━\u001b[0m \u001b[32m541.5/541.5 kB\u001b[0m \u001b[31m30.2 MB/s\u001b[0m eta \u001b[36m0:00:00\u001b[0m\n",
            "\u001b[?25hDownloading qiskit-2.2.3-cp39-abi3-manylinux2014_x86_64.manylinux_2_17_x86_64.whl (8.0 MB)\n",
            "\u001b[2K   \u001b[90m━━━━━━━━━━━━━━━━━━━━━━━━━━━━━━━━━━━━━━━━\u001b[0m \u001b[32m8.0/8.0 MB\u001b[0m \u001b[31m90.4 MB/s\u001b[0m eta \u001b[36m0:00:00\u001b[0m\n",
            "\u001b[?25hDownloading requests_ntlm-1.3.0-py3-none-any.whl (6.6 kB)\n",
            "Downloading rustworkx-0.17.1-cp39-abi3-manylinux_2_17_x86_64.manylinux2014_x86_64.whl (2.2 MB)\n",
            "\u001b[2K   \u001b[90m━━━━━━━━━━━━━━━━━━━━━━━━━━━━━━━━━━━━━━━━\u001b[0m \u001b[32m2.2/2.2 MB\u001b[0m \u001b[31m50.1 MB/s\u001b[0m eta \u001b[36m0:00:00\u001b[0m\n",
            "\u001b[?25hDownloading stevedore-5.5.0-py3-none-any.whl (49 kB)\n",
            "\u001b[2K   \u001b[90m━━━━━━━━━━━━━━━━━━━━━━━━━━━━━━━━━━━━━━━━\u001b[0m \u001b[32m49.5/49.5 kB\u001b[0m \u001b[31m4.3 MB/s\u001b[0m eta \u001b[36m0:00:00\u001b[0m\n",
            "\u001b[?25hDownloading ibm_cloud_sdk_core-3.24.2-py3-none-any.whl (75 kB)\n",
            "\u001b[2K   \u001b[90m━━━━━━━━━━━━━━━━━━━━━━━━━━━━━━━━━━━━━━━━\u001b[0m \u001b[32m75.8/75.8 kB\u001b[0m \u001b[31m4.3 MB/s\u001b[0m eta \u001b[36m0:00:00\u001b[0m\n",
            "\u001b[?25hDownloading pyspnego-0.12.0-py3-none-any.whl (130 kB)\n",
            "\u001b[2K   \u001b[90m━━━━━━━━━━━━━━━━━━━━━━━━━━━━━━━━━━━━━━━━\u001b[0m \u001b[32m130.2/130.2 kB\u001b[0m \u001b[31m9.0 MB/s\u001b[0m eta \u001b[36m0:00:00\u001b[0m\n",
            "\u001b[?25hBuilding wheels for collected packages: pylatexenc\n",
            "  Building wheel for pylatexenc (setup.py) ... \u001b[?25l\u001b[?25hdone\n",
            "  Created wheel for pylatexenc: filename=pylatexenc-2.10-py3-none-any.whl size=136817 sha256=8b4a928b5d0753270264f7f9a2e28d2d930cdcdc33aeaa2472343807c7b55b0b\n",
            "  Stored in directory: /root/.cache/pip/wheels/06/3e/78/fa1588c1ae991bbfd814af2bcac6cef7a178beee1939180d46\n",
            "Successfully built pylatexenc\n",
            "Installing collected packages: pylatexenc, openqasm3, stevedore, rustworkx, qiskit, ibm_cloud_sdk_core, qiskit_qasm3_import, qiskit-aer, pyspnego, ibm-platform-services, requests-ntlm, qiskit-ibm-runtime\n",
            "Successfully installed ibm-platform-services-0.71.0 ibm_cloud_sdk_core-3.24.2 openqasm3-1.0.1 pylatexenc-2.10 pyspnego-0.12.0 qiskit-2.2.3 qiskit-aer-0.17.2 qiskit-ibm-runtime-0.43.1 qiskit_qasm3_import-0.6.0 requests-ntlm-1.3.0 rustworkx-0.17.1 stevedore-5.5.0\n"
          ]
        }
      ],
      "source": [
        "!pip install qiskit[visualization] qiskit-ibm-runtime qiskit-aer qiskit_qasm3_import\n",
        "\n",
        "import numpy as np\n",
        "from qiskit import QuantumCircuit\n",
        "from qiskit.quantum_info import Pauli, SparsePauliOp, Statevector\n",
        "from qiskit.visualization import plot_histogram, plot_bloch_multivector\n",
        "from qiskit_aer import AerSimulator\n",
        "from qiskit.circuit import Parameter, ParameterVector\n",
        "import qiskit.qasm3\n",
        "from qiskit_ibm_runtime.fake_provider import FakeVigoV2\n",
        "from qiskit.transpiler.preset_passmanagers import generate_preset_pass_manager\n",
        "from qiskit_ibm_runtime import SamplerV2 as Sampler, EstimatorV2 as Estimator, QiskitRuntimeService\n"
      ]
    },
    {
      "cell_type": "markdown",
      "metadata": {
        "id": "deqExCIwsxUr"
      },
      "source": [
        "---"
      ]
    },
    {
      "cell_type": "markdown",
      "metadata": {
        "id": "h7LE98wpsxUr"
      },
      "source": [
        "## 1. Pauli Operators (Single-Qubit Operators)\n",
        "\n",
        "**Explanation:** The Pauli operators (X, Y, Z, and I) are 2x2 matrices that represent fundamental single-qubit quantum operations. In Qiskit, these can be created using the `Pauli` class (e.g., `Pauli('X')` for the X operator). You can also construct multi-qubit Paulis by specifying characters for each qubit (e.g., `'XI'` for identity on qubit 0 and X on qubit 1, following Qiskit's little-endian bit ordering)."
      ]
    },
    {
      "cell_type": "markdown",
      "metadata": {
        "id": "16mO3TVQsxUr"
      },
      "source": [
        "**Exercise 1:**\n",
        "Write code that performs following functionality:\n",
        "1. Creates a 3-qubit Pauli operator representing `Z` on qubit 2, `Y` on qubit 1, and `I` (Identity) on qubit 0.\n",
        "2. Prints the operator.\n",
        "3. Prints its corresponding matrix representation"
      ]
    },
    {
      "cell_type": "code",
      "execution_count": 2,
      "metadata": {
        "id": "Q7uI3aw1sxUr",
        "colab": {
          "base_uri": "https://localhost:8080/"
        },
        "outputId": "43d4b20f-27be-4195-9d32-48d08d9acf2f"
      },
      "outputs": [
        {
          "output_type": "stream",
          "name": "stdout",
          "text": [
            "pauli operator: IYZ\n",
            "matrix representation:\n",
            " [[0.+0.j 0.+0.j 0.-1.j 0.+0.j 0.+0.j 0.+0.j 0.+0.j 0.+0.j]\n",
            " [0.+0.j 0.+0.j 0.+0.j 0.+1.j 0.+0.j 0.+0.j 0.+0.j 0.+0.j]\n",
            " [0.+1.j 0.+0.j 0.+0.j 0.+0.j 0.+0.j 0.+0.j 0.+0.j 0.+0.j]\n",
            " [0.+0.j 0.-1.j 0.+0.j 0.+0.j 0.+0.j 0.+0.j 0.+0.j 0.+0.j]\n",
            " [0.+0.j 0.+0.j 0.+0.j 0.+0.j 0.+0.j 0.+0.j 0.-1.j 0.+0.j]\n",
            " [0.+0.j 0.+0.j 0.+0.j 0.+0.j 0.+0.j 0.+0.j 0.+0.j 0.+1.j]\n",
            " [0.+0.j 0.+0.j 0.+0.j 0.+0.j 0.+1.j 0.+0.j 0.+0.j 0.+0.j]\n",
            " [0.+0.j 0.+0.j 0.+0.j 0.+0.j 0.+0.j 0.-1.j 0.+0.j 0.+0.j]]\n"
          ]
        }
      ],
      "source": [
        "from qiskit.quantum_info import Pauli\n",
        "pauli_op = Pauli('IYZ')\n",
        "print(\"pauli operator:\", pauli_op)\n",
        "print(\"matrix representation:\\n\", pauli_op.to_matrix())"
      ]
    },
    {
      "cell_type": "markdown",
      "metadata": {
        "id": "jt1qu3ttsxUr"
      },
      "source": [
        "---"
      ]
    },
    {
      "cell_type": "markdown",
      "metadata": {
        "id": "oyy5Q-RysxUr"
      },
      "source": [
        "## 2. Single-Qubit Gates and Phases\n",
        "\n",
        "**Explanation:** Single-qubit gates like X, Y, Z, H, S, and T are basic operations on one qubit. S and T are phase gates. The S-gate adds a π/2 phase to the |1⟩ component of any quantum state, while the T-gate adds a π/4 phase to the |1⟩ component, leaving the |0⟩ component unchanged in both cases. These phase shifts are crucial for many quantum algorithms."
      ]
    },
    {
      "cell_type": "markdown",
      "metadata": {
        "id": "oR0wlF-xsxUr"
      },
      "source": [
        "**Exercise 2:**\n",
        "Write code that performs following functionality:\n",
        "1. Creates a quantum circuit that contains one qubit.\n",
        "2. Puts the qubit in the state |1⟩.\n",
        "3. Adds a single gate to the circuit that applies a π/4 phase shift to the qubit.\n",
        "4. Output a Dirac notation representation of the circuit's statevector."
      ]
    },
    {
      "cell_type": "code",
      "execution_count": 3,
      "metadata": {
        "id": "Bd2qSTJisxUr",
        "collapsed": true,
        "colab": {
          "base_uri": "https://localhost:8080/"
        },
        "outputId": "5e9c90b9-e05a-4210-ce93-8ada777b2ca1"
      },
      "outputs": [
        {
          "output_type": "stream",
          "name": "stdout",
          "text": [
            "{np.str_('1'): np.complex128(0.7071067811865475+0.7071067811865475j)}\n"
          ]
        }
      ],
      "source": [
        "from qiskit import QuantumCircuit\n",
        "from qiskit.quantum_info import Statevector\n",
        "qc = QuantumCircuit(1)\n",
        "qc.x(0)\n",
        "qc.t(0)\n",
        "state = Statevector.from_instruction(qc)\n",
        "print(state.to_dict())"
      ]
    },
    {
      "cell_type": "markdown",
      "metadata": {
        "id": "7dYTCO3AsxUr"
      },
      "source": [
        "---"
      ]
    },
    {
      "cell_type": "markdown",
      "metadata": {
        "id": "w53dsAQ4sxUr"
      },
      "source": [
        "## 3. Superposition and Bloch Sphere Rotations\n",
        "\n",
        "**Explanation:** Gates like `RX`, `RY`, and `RZ` perform rotations around the axes of the Bloch sphere, creating superposition states. A rotation by an angle θ around the Y-axis (`RY(θ)`) on an initial state |0⟩ produces the superposition cos(θ/2)|0⟩ + sin(θ/2)|1⟩. The probabilities of measuring 0 or 1 are the squares of these amplitudes."
      ]
    },
    {
      "cell_type": "markdown",
      "metadata": {
        "id": "xWCV781dsxUs"
      },
      "source": [
        "**Exercise 3:**\n",
        "Write code that performs following functionality:\n",
        "1. Creates a quantum circuit that contains one qubit.\n",
        "2. Applies a single gate to qubit 0 (initially in state |0⟩) to create a superposition where the probability of measuring |0⟩ is approximately 14.6% and the probability of measuring |1⟩ is 85.4%.\n",
        "3. Prints the probabilities.\n",
        "4. Displays a Bloch sphere representation of the statevector."
      ]
    },
    {
      "cell_type": "code",
      "execution_count": 4,
      "metadata": {
        "id": "mIsVCiCksxUs",
        "colab": {
          "base_uri": "https://localhost:8080/"
        },
        "outputId": "5d3803c8-166a-4c5c-b76c-2d13180c538f"
      },
      "outputs": [
        {
          "output_type": "stream",
          "name": "stdout",
          "text": [
            "probabilities: {np.str_('0'): np.float64(0.146), np.str_('1'): np.float64(0.854)}\n"
          ]
        }
      ],
      "source": [
        "from qiskit import QuantumCircuit\n",
        "from qiskit.quantum_info import Statevector\n",
        "from qiskit.visualization import plot_bloch_multivector\n",
        "import numpy as np\n",
        "import matplotlib.pyplot as plt\n",
        "p0 = 0.146\n",
        "p1 = 0.854\n",
        "theta = 2 * np.arccos(np.sqrt(p0))\n",
        "qc = QuantumCircuit(1)\n",
        "qc.ry(theta, 0)\n",
        "state = Statevector.from_instruction(qc)\n",
        "print(\"probabilities:\", state.probabilities_dict())\n",
        "plot_bloch_multivector(state)\n",
        "plt.show()"
      ]
    },
    {
      "cell_type": "markdown",
      "metadata": {
        "id": "UpDq_hSCsxUs"
      },
      "source": [
        "---"
      ]
    },
    {
      "cell_type": "markdown",
      "metadata": {
        "id": "ab_OzjB-sxUs"
      },
      "source": [
        "## 4. Multi-Qubit Operations and Entanglement\n",
        "\n",
        "**Explanation:** Multi-qubit gates like the CNOT (`qc.cx(control, target)`) create entanglement when applied to superposition states. A common entangled state is the Bell state |Φ+⟩ = 1/√2(|00⟩ + |11⟩), created by applying a Hadamard gate to one qubit and then a CNOT gate. Remember Qiskit's bit ordering: qubit 0 is the rightmost bit (least significant)."
      ]
    },
    {
      "cell_type": "markdown",
      "metadata": {
        "id": "ixJz_uCSsxUs"
      },
      "source": [
        "**Exercise 4:**\n",
        "Write code that performs following functionality:\n",
        "1. Creates a quantum circuit that contains two qubits.\n",
        "2. Create the Bell state |Φ+⟩ in which the first qubit (q0) is the control qubit.\n",
        "3. Draws the quantum circuit using matplotlib.\n",
        "4. Prints the circuit's statevector."
      ]
    },
    {
      "cell_type": "code",
      "execution_count": 5,
      "metadata": {
        "id": "tYtyD067sxUs",
        "colab": {
          "base_uri": "https://localhost:8080/"
        },
        "outputId": "bd687a3d-c976-4a4f-f25d-048548eb2222"
      },
      "outputs": [
        {
          "output_type": "stream",
          "name": "stdout",
          "text": [
            "Statevector:\n",
            " Statevector([0.70710678+0.j, 0.        +0.j, 0.        +0.j,\n",
            "             0.70710678+0.j],\n",
            "            dims=(2, 2))\n"
          ]
        }
      ],
      "source": [
        "from qiskit import QuantumCircuit\n",
        "from qiskit.quantum_info import Statevector\n",
        "import matplotlib.pyplot as plt\n",
        "qc = QuantumCircuit(2)\n",
        "qc.h(0)\n",
        "qc.cx(0, 1)\n",
        "qc.draw(output='mpl')\n",
        "plt.show()\n",
        "state = Statevector.from_instruction(qc)\n",
        "print(\"Statevector:\\n\", state)"
      ]
    },
    {
      "cell_type": "markdown",
      "metadata": {
        "id": "VXUeDyQQsxUs"
      },
      "source": [
        "---"
      ]
    },
    {
      "cell_type": "markdown",
      "metadata": {
        "id": "bYWNowNPsxUs"
      },
      "source": [
        "## 5. Building Quantum Circuits and Drawing\n",
        "\n",
        "**Explanation:** The `QuantumCircuit` class is used to build circuits. The `draw()` method provides visualizations in formats like `'text'`, `'mpl'`, and `'latex'`. You can customize the drawing with parameters such as `reverse_bits` to flip the qubit order."
      ]
    },
    {
      "cell_type": "markdown",
      "metadata": {
        "id": "h4YCSEVPsxUs"
      },
      "source": [
        "**Exercise 5:**\n",
        "Write code that performs following functionality:\n",
        "1. Creates a 3-qubit GHZ state.\n",
        "2. Draws the circuit with the qubit order reversed in the diagram (q2 on top, q0 on bottom).\n"
      ]
    },
    {
      "cell_type": "code",
      "execution_count": 6,
      "metadata": {
        "id": "d0E_Jhn3sxUs"
      },
      "outputs": [],
      "source": [
        "from qiskit import QuantumCircuit\n",
        "import matplotlib.pyplot as plt\n",
        "\n",
        "qc = QuantumCircuit(3)\n",
        "\n",
        "qc.h(0)\n",
        "qc.cx(0, 1)\n",
        "qc.cx(0, 2)\n",
        "qc.draw(output='mpl', reverse_bits=True)\n",
        "plt.show()"
      ]
    },
    {
      "cell_type": "markdown",
      "metadata": {
        "id": "QmYxbaGEsxUs"
      },
      "source": [
        "---"
      ]
    },
    {
      "cell_type": "markdown",
      "metadata": {
        "id": "_7Ll_fsssxUs"
      },
      "source": [
        "## 6. Dynamic Circuits and Classical Control Flow\n",
        "\n",
        "**Explanation:** Qiskit supports dynamic circuits where operations can be conditioned on classical measurement outcomes. The `if_test()` context manager can be used to create conditional blocks where operations are executed based on classical bit values. This allows for powerful classical feed-forward in your quantum programs."
      ]
    },
    {
      "cell_type": "markdown",
      "metadata": {
        "id": "BqykBGJ7sxUs"
      },
      "source": [
        "**Exercise 6:**\n",
        "Write code that performs following functionality:\n",
        "1. Creates a quantum circuit that contains two qubits and at least one classical bit.\n",
        "2. Adds a hadamard gate to the least significant qubit\n",
        "3. Applies an X gate to qubit 1 *only if* a measurement of qubit 0 yields the result `1`. Use the `if_test()` context manager with the appropriate condition tuple.\n",
        "4. Draws the circuit using matplotlib."
      ]
    },
    {
      "cell_type": "code",
      "execution_count": 7,
      "metadata": {
        "id": "pYyuApK9sxUs"
      },
      "outputs": [],
      "source": [
        "from qiskit import QuantumCircuit\n",
        "import matplotlib.pyplot as plt\n",
        "\n",
        "qc = QuantumCircuit(2, 1)\n",
        "qc.h(0)\n",
        "qc.measure(0, 0)\n",
        "with qc.if_test((0, 1)):\n",
        "    qc.x(1)\n",
        "qc.draw(output='mpl')\n",
        "plt.show()"
      ]
    },
    {
      "cell_type": "markdown",
      "metadata": {
        "id": "bz26HxCvsxUs"
      },
      "source": [
        "---"
      ]
    },
    {
      "cell_type": "markdown",
      "metadata": {
        "id": "4Z9ge_vOsxUs"
      },
      "source": [
        "## 7. Visualizing Quantum States and Results\n",
        "\n",
        "**Explanation:** Qiskit offers several functions to visualize results. `plot_histogram(counts)` is used to display measurement outcomes from a simulation or real device run. You can sort the results for easier analysis, for example, by the frequency of the outcomes."
      ]
    },
    {
      "cell_type": "markdown",
      "metadata": {
        "id": "HjCmEiJfsxUs"
      },
      "source": [
        "**Exercise 7:**\n",
        "Write code that performs following functionality:\n",
        "1. Creates a quantum circuit that contains the |Φ+⟩ Bell state.\n",
        "2. Measures the results on classical wires.\n",
        "3. Runs the circuit using the `AerSimulator`.\n",
        "4. Gets the measurement counts.\n",
        "5. Plots a histogram with the bars sorted from the most common outcome to the least common."
      ]
    },
    {
      "cell_type": "code",
      "execution_count": 9,
      "metadata": {
        "id": "7N-DRWjwsxUt"
      },
      "outputs": [],
      "source": [
        "from qiskit import QuantumCircuit, transpile\n",
        "from qiskit_aer import AerSimulator\n",
        "from qiskit.visualization import plot_histogram\n",
        "import matplotlib.pyplot as plt\n",
        "\n",
        "# Create a 2-qubit quantum circuit\n",
        "qc = QuantumCircuit(2, 2)\n",
        "\n",
        "# Prepare the Bell state |Φ+⟩\n",
        "qc.h(0)\n",
        "qc.cx(0, 1)\n",
        "\n",
        "# Measure both qubits into classical bits\n",
        "qc.measure([0, 1], [0, 1])\n",
        "\n",
        "# Set up the Aer simulator backend\n",
        "simulator = AerSimulator()\n",
        "\n",
        "# Transpile the circuit for the simulator\n",
        "compiled_circuit = transpile(qc, simulator)\n",
        "\n",
        "# Run the circuit on the simulator\n",
        "result = simulator.run(compiled_circuit, shots=1024).result()\n",
        "\n",
        "# Get measurement counts\n",
        "counts = result.get_counts()\n",
        "\n",
        "# Sort counts from most to least common\n",
        "sorted_counts = dict(sorted(counts.items(), key=lambda item: item[1], reverse=True))\n",
        "\n",
        "# Plot histogram with sorted counts\n",
        "plot_histogram(sorted_counts)\n",
        "plt.show()"
      ]
    },
    {
      "cell_type": "markdown",
      "metadata": {
        "id": "YTRCdX_LsxUt"
      },
      "source": [
        "---"
      ]
    },
    {
      "cell_type": "markdown",
      "metadata": {
        "id": "7KS7X1hWsxUx"
      },
      "source": [
        "## 8. Parameterized Quantum Circuits\n",
        "\n",
        "**Explanation:** Qiskit allows circuits with symbolic parameters using the `Parameter` class. These parameters act as placeholders that can be bound to specific numerical values later using the `assign_parameters()` method. This is fundamental for variational algorithms like VQE and QAOA."
      ]
    },
    {
      "cell_type": "markdown",
      "metadata": {
        "id": "1PjfEcsUsxUx"
      },
      "source": [
        "**Exercise 8:**\n",
        "Write code that performs following functionality:\n",
        "1. Creates a `Parameter` instance to represent a parameter named `theta`.\n",
        "2. Creates a quantum circuit `qc` that contains one qubit.\n",
        "3. Adds an RX gate with parameter `theta` to the qubit wire.\n",
        "4. Draws the `qc` circuit.\n",
        "5. Creates a new circuit `bound_qc` by binding the parameter `theta` to the value `π/2`.\n",
        "6. Draws the `bound_qc` circuit."
      ]
    },
    {
      "cell_type": "code",
      "execution_count": 12,
      "metadata": {
        "id": "IPjJLmqjsxUx",
        "colab": {
          "base_uri": "https://localhost:8080/",
          "height": 470
        },
        "outputId": "5bde703c-3dd4-4785-8b6e-ef5fb818db81"
      },
      "outputs": [
        {
          "output_type": "execute_result",
          "data": {
            "text/plain": [
              "Text(0.5, 1.0, 'Bound Circuit with RX(π/2)')"
            ]
          },
          "metadata": {},
          "execution_count": 12
        },
        {
          "output_type": "display_data",
          "data": {
            "text/plain": [
              "<Figure size 640x480 with 1 Axes>"
            ],
            "image/png": "[encoded data removed]"
          },
          "metadata": {}
        }
      ],
      "source": [
        "from qiskit import QuantumCircuit\n",
        "from qiskit.circuit import Parameter\n",
        "import numpy as np\n",
        "import matplotlib.pyplot as plt\n",
        "\n",
        "theta = Parameter('θ')\n",
        "\n",
        "qc = QuantumCircuit(1)\n",
        "\n",
        "qc.rx(theta, 0)\n",
        "\n",
        "qc.draw(output='mpl')\n",
        "plt.title(\"Parameterized Circuit with RX(θ)\")\n",
        "\n",
        "bound_qc = qc.assign_parameters({theta: np.pi / 2})\n",
        "\n",
        "bound_qc.draw(output='mpl')\n",
        "plt.title(\"Bound Circuit with RX(π/2)\")"
      ]
    },
    {
      "cell_type": "markdown",
      "metadata": {
        "id": "oacDrbNPsxUy"
      },
      "source": [
        "---"
      ]
    },
    {
      "cell_type": "markdown",
      "metadata": {
        "id": "mtJl_5xHsxUy"
      },
      "source": [
        "## 9. Circuit Transpilation and Optimization\n",
        "\n",
        "**Explanation:** Transpilation adapts a quantum circuit to the constraints of a specific quantum device, including its basis gates and qubit connectivity. The `generate_preset_pass_manager()` function creates a transpilation pass manager with preset configurations. It has several `optimization_level` settings (0-3), where higher levels apply more advanced optimization techniques to reduce circuit depth and gate count, at the cost of longer compilation time."
      ]
    },
    {
      "cell_type": "markdown",
      "metadata": {
        "id": "3BApPuTLsxUy"
      },
      "source": [
        "**Exercise 9:**\n",
        "Write code that performs following functionality:\n",
        "1. Creates a 3-qubit GHZ circuit.\n",
        "2. Transpiles the circuit for the `FakeVigoV2` backend, using the highest level of optimization (level 3).\n",
        "3. Prints the depth of the original circuit.\n",
        "4. Prints the depth of the transpiled circuit.\n",
        "5. Draws the transpiled circuit."
      ]
    },
    {
      "cell_type": "code",
      "execution_count": 15,
      "metadata": {
        "id": "vsy-1cVPsxUy",
        "colab": {
          "base_uri": "https://localhost:8080/"
        },
        "outputId": "543c5ed7-23ca-41c3-d532-11fe6c657396"
      },
      "outputs": [
        {
          "output_type": "stream",
          "name": "stdout",
          "text": [
            "Original circuit depth: 3\n",
            "Transpiled circuit depth: 5\n"
          ]
        }
      ],
      "source": [
        "from qiskit import QuantumCircuit, transpile\n",
        "from qiskit_ibm_runtime.fake_provider import FakeVigoV2\n",
        "import matplotlib.pyplot as plt\n",
        "\n",
        "# Create the 3-qubit GHZ circuit\n",
        "qc = QuantumCircuit(3)\n",
        "qc.h(0)\n",
        "qc.cx(0, 1)\n",
        "qc.cx(0, 2)\n",
        "\n",
        "# Print original circuit depth\n",
        "print(\"Original circuit depth:\", qc.depth())\n",
        "\n",
        "# Load the FakeVigoV2 backend\n",
        "backend = FakeVigoV2()\n",
        "\n",
        "# Transpile the circuit for FakeVigoV2 with optimization level 3\n",
        "transpiled_qc = transpile(qc, backend=backend, optimization_level=3)\n",
        "\n",
        "# Print transpiled circuit depth\n",
        "print(\"Transpiled circuit depth:\", transpiled_qc.depth())\n",
        "\n",
        "# Draw the transpiled circuit\n",
        "transpiled_qc.draw(output='mpl')\n",
        "plt.show()"
      ]
    },
    {
      "cell_type": "markdown",
      "metadata": {
        "id": "8XsqcPA1sxUy"
      },
      "source": [
        "---"
      ]
    },
    {
      "cell_type": "markdown",
      "metadata": {
        "id": "PL65fgRBsxUy"
      },
      "source": [
        "## 10. Qiskit Runtime Execution Modes\n",
        "\n",
        "**Explanation:** Qiskit Runtime offers three execution modes: **job**, **session**, and **batch**. The execution modes determine how your jobs are scheduled, and choosing the right execution mode allows your workload to run efficiently within your budget."
      ]
    },
    {
      "cell_type": "markdown",
      "metadata": {
        "id": "KUUF6HpGsxUy"
      },
      "source": [
        "**Exercise 10:** This is a conceptual question. In the markdown cell below, explain which execution mode (job, session, or batch) you would use for a Variational Quantum Eigensolver (VQE) algorithm and briefly state why."
      ]
    },
    {
      "cell_type": "markdown",
      "metadata": {
        "id": "vXi1UHRhsxUy"
      },
      "source": [
        "Ans: For running a Variational Quantum Eigensolver (VQE) algorithm, the most suitable Qiskit Runtime execution mode is the session mode.\n",
        "\n",
        "Explanation:\n",
        "VQE is an iterative algorithm requiring many successive quantum circuit executions combined with classical optimization steps.\n",
        "\n",
        "Session mode provides dedicated, exclusive access to the quantum processing unit (QPU) throughout the entire workload.\n",
        "\n",
        "This reduces queuing delays between iterations, allowing faster turnaround and more predictable execution.\n",
        "\n",
        "It supports iterative workloads well, enabling the classical optimizer to interact with the quantum device repeatedly within a single session.\n",
        "\n",
        "Although session mode tends to be more expensive than batch or single job modes, its advantages for variational algorithms like VQE make it the optimal choice for performance and efficiency.\n",
        "\n",
        "In contrast:\n",
        "\n",
        "Job mode suits single or simple jobs without interdependence.\n",
        "\n",
        "Batch mode works well for independent multiple jobs that can run in parallel but does not offer exclusive access or fast iterative processing.\n",
        "\n",
        "Therefore, session mode balances efficient resource usage and rapid iterative interaction, which is crucial for VQE algorithms."
      ]
    },
    {
      "cell_type": "markdown",
      "metadata": {
        "id": "id6jApu3sxUy"
      },
      "source": [
        "---"
      ]
    },
    {
      "cell_type": "markdown",
      "metadata": {
        "id": "reyOfqR9sxUy"
      },
      "source": [
        "## 11. Quantum Primitives (Sampler and Estimator)\n",
        "\n",
        "**Explanation:** Primitives are high-level interfaces for common quantum tasks. The **Sampler** and **Estimator** are two key primitives that each serve different purposes when working with quantum circuits. They abstract away the details of execution and error mitigation, making it easier to extract meaningful information from quantum computations."
      ]
    },
    {
      "cell_type": "markdown",
      "metadata": {
        "id": "K3pRUs_6sxUy"
      },
      "source": [
        "**Exercise 11:** This is a conceptual question. In the markdown cell below, describe the fundamental difference between the Sampler and Estimator primitives in a single sentence."
      ]
    },
    {
      "cell_type": "markdown",
      "metadata": {
        "id": "apftI_pHsxUy"
      },
      "source": [
        "The fundamental difference between the Sampler and Estimator primitives in Qiskit is:\n",
        "\n",
        "Sampler returns the probability distribution (samples) from measuring quantum circuits, representing the frequencies of classical outcomes.\n",
        "\n",
        "Estimator returns the expectation value of specified observables given quantum circuits, providing weighted averages rather than raw measurement counts.\n",
        "\n",
        "In short, the Sampler obtains measurement probability distributions, while the Estimator computes expectation values of observables on quantum states."
      ]
    },
    {
      "cell_type": "markdown",
      "metadata": {
        "id": "QLC_Kbp-sxUy"
      },
      "source": [
        "---"
      ]
    },
    {
      "cell_type": "markdown",
      "metadata": {
        "id": "-PaYckpwsxUy"
      },
      "source": [
        "## 12. Using the Sampler Primitive\n",
        "\n",
        "**Explanation:** In Qiskit 2, you can use the `Sampler` primitive from `qiskit_ibm_runtime` with local simulators like `AerSimulator`. Here you'll initialize a `Sampler` with a backend mode, transpile your circuit using `generate_preset_pass_manager`, then use the `.run([circuits], shots=...)` method. The result object contains measurement data accessible via the classical register names."
      ]
    },
    {
      "cell_type": "markdown",
      "metadata": {
        "id": "pOzBRxObsxUy"
      },
      "source": [
        "**Exercise 12:**\n",
        "Write code that performs following functionality:\n",
        "1. Creates a quantum circuit that contains the |Φ+⟩ Bell state.\n",
        "2. Uses the `measure_all` method to measure the results.\n",
        "3. Transpiles the circuit using the `AerSimulator` backend.\n",
        "4. Initializes the `Sampler` primitive with the `AerSimulator` backend\n",
        "5. Runs the Sampler.\n",
        "6. Gets the measurement counts.\n",
        "7. Prints the measurement counts.\n"
      ]
    },
    {
      "cell_type": "code",
      "execution_count": 18,
      "metadata": {
        "id": "4fmQxymusxUy",
        "colab": {
          "base_uri": "https://localhost:8080/",
          "height": 221
        },
        "outputId": "870f2833-63a0-4f9f-8e2b-68466f006270"
      },
      "outputs": [
        {
          "output_type": "error",
          "ename": "TypeError",
          "evalue": "SamplerV2.__init__() got an unexpected keyword argument 'backend'",
          "traceback": [
            "\u001b[0;31m---------------------------------------------------------------------------\u001b[0m",
            "\u001b[0;31mTypeError\u001b[0m                                 Traceback (most recent call last)",
            "\u001b[0;32m/tmp/ipython-input-4071547738.py\u001b[0m in \u001b[0;36m<cell line: 0>\u001b[0;34m()\u001b[0m\n\u001b[1;32m     20\u001b[0m \u001b[0;34m\u001b[0m\u001b[0m\n\u001b[1;32m     21\u001b[0m \u001b[0;31m# Initialize Sampler primitive with AerSimulator backend\u001b[0m\u001b[0;34m\u001b[0m\u001b[0;34m\u001b[0m\u001b[0m\n\u001b[0;32m---> 22\u001b[0;31m \u001b[0msampler\u001b[0m \u001b[0;34m=\u001b[0m \u001b[0mSampler\u001b[0m\u001b[0;34m(\u001b[0m\u001b[0mbackend\u001b[0m\u001b[0;34m=\u001b[0m\u001b[0mbackend\u001b[0m\u001b[0;34m)\u001b[0m\u001b[0;34m\u001b[0m\u001b[0;34m\u001b[0m\u001b[0m\n\u001b[0m\u001b[1;32m     23\u001b[0m \u001b[0;34m\u001b[0m\u001b[0m\n\u001b[1;32m     24\u001b[0m \u001b[0;31m# Run sampler with shots\u001b[0m\u001b[0;34m\u001b[0m\u001b[0;34m\u001b[0m\u001b[0m\n",
            "\u001b[0;31mTypeError\u001b[0m: SamplerV2.__init__() got an unexpected keyword argument 'backend'"
          ]
        }
      ],
      "source": [
        "from qiskit import QuantumCircuit, transpile\n",
        "from qiskit_aer import AerSimulator\n",
        "from qiskit_ibm_runtime import Sampler\n",
        "from qiskit.transpiler import generate_preset_pass_manager\n",
        "\n",
        "# Create Bell state circuit\n",
        "qc = QuantumCircuit(2)\n",
        "qc.h(0)\n",
        "qc.cx(0, 1)\n",
        "\n",
        "# Measure all qubits\n",
        "qc.measure_all()\n",
        "\n",
        "# Initialize AerSimulator backend\n",
        "backend = AerSimulator()\n",
        "\n",
        "# Transpile circuit with preset pass manager for backend\n",
        "pass_manager = generate_preset_pass_manager(backend=backend, optimization_level=1)\n",
        "transpiled_qc = transpile(qc, backend=backend)\n",
        "\n",
        "# Initialize Sampler primitive with AerSimulator backend\n",
        "sampler = Sampler(backend=backend)\n",
        "\n",
        "# Run sampler with shots\n",
        "result = sampler.run([transpiled_qc], shots=1024).result()\n",
        "\n",
        "# Get measurement counts from the result\n",
        "counts = result.quasi_dists[0]  # quasi_distribution with counts info\n",
        "\n",
        "# Print measurement counts\n",
        "print(\"Measurement counts:\", counts)\n"
      ]
    },
    {
      "cell_type": "markdown",
      "metadata": {
        "id": "RB3wcFFYsxUz"
      },
      "source": [
        "---"
      ]
    },
    {
      "cell_type": "markdown",
      "metadata": {
        "id": "TwkbyxVDsxUz"
      },
      "source": [
        "## 13. Using the Estimator Primitive\n",
        "\n",
        "**Explanation:** In Qiskit 2, you can use the `Estimator` primitive from `qiskit_ibm_runtime` with local simulators like `AerSimulator`. The `Estimator` computes expectation values ⟨ψ|O|ψ⟩. Here you'll initialize an `Estimator` with a backend mode, transpile your circuit using `generate_preset_pass_manager`, apply the observable to the circuit layout, then use the `.run([(circuit, observable)])` method. The result object contains expectation values accessible via `data.evs`."
      ]
    },
    {
      "cell_type": "markdown",
      "metadata": {
        "id": "SXgnN1FNsxUz"
      },
      "source": [
        "**Exercise 13:**\n",
        "Write code that performs following functionality:\n",
        "1. Creates a quantum circuit that contains the |Φ+⟩ Bell state.\n",
        "2. Defines the ZZ observable using `SparsePauliOp`\n",
        "3. Transpiles the circuit using the `AerSimulator` backend.\n",
        "4. Applies the observable to the circuit layout\n",
        "5. Initializes the `Estimator` primitive with the `AerSimulator` backend.\n",
        "6. Runs the Estimator.\n",
        "4. Gets the PUB result.\n",
        "5. Retrieves and prints the expectation value."
      ]
    },
    {
      "cell_type": "code",
      "execution_count": 20,
      "metadata": {
        "id": "PHDsTqlgsxUz",
        "colab": {
          "base_uri": "https://localhost:8080/",
          "height": 221
        },
        "outputId": "4639064c-db06-4b5d-fc1a-aacaa7a0360f"
      },
      "outputs": [
        {
          "output_type": "error",
          "ename": "TypeError",
          "evalue": "transpile() got an unexpected keyword argument 'pass_manager'",
          "traceback": [
            "\u001b[0;31m---------------------------------------------------------------------------\u001b[0m",
            "\u001b[0;31mTypeError\u001b[0m                                 Traceback (most recent call last)",
            "\u001b[0;32m/tmp/ipython-input-2298691665.py\u001b[0m in \u001b[0;36m<cell line: 0>\u001b[0;34m()\u001b[0m\n\u001b[1;32m     19\u001b[0m \u001b[0;31m# Transpile the circuit with preset pass manager for backend\u001b[0m\u001b[0;34m\u001b[0m\u001b[0;34m\u001b[0m\u001b[0m\n\u001b[1;32m     20\u001b[0m \u001b[0mpass_manager\u001b[0m \u001b[0;34m=\u001b[0m \u001b[0mgenerate_preset_pass_manager\u001b[0m\u001b[0;34m(\u001b[0m\u001b[0mbackend\u001b[0m\u001b[0;34m=\u001b[0m\u001b[0mbackend\u001b[0m\u001b[0;34m,\u001b[0m \u001b[0moptimization_level\u001b[0m\u001b[0;34m=\u001b[0m\u001b[0;36m1\u001b[0m\u001b[0;34m)\u001b[0m\u001b[0;34m\u001b[0m\u001b[0;34m\u001b[0m\u001b[0m\n\u001b[0;32m---> 21\u001b[0;31m \u001b[0mtranspiled_qc\u001b[0m \u001b[0;34m=\u001b[0m \u001b[0mtranspile\u001b[0m\u001b[0;34m(\u001b[0m\u001b[0mqc\u001b[0m\u001b[0;34m,\u001b[0m \u001b[0mbackend\u001b[0m\u001b[0;34m=\u001b[0m\u001b[0mbackend\u001b[0m\u001b[0;34m,\u001b[0m \u001b[0mpass_manager\u001b[0m\u001b[0;34m=\u001b[0m\u001b[0mpass_manager\u001b[0m\u001b[0;34m)\u001b[0m\u001b[0;34m\u001b[0m\u001b[0;34m\u001b[0m\u001b[0m\n\u001b[0m\u001b[1;32m     22\u001b[0m \u001b[0;34m\u001b[0m\u001b[0m\n\u001b[1;32m     23\u001b[0m \u001b[0;31m# Initialize Estimator primitive with AerSimulator backend\u001b[0m\u001b[0;34m\u001b[0m\u001b[0;34m\u001b[0m\u001b[0m\n",
            "\u001b[0;31mTypeError\u001b[0m: transpile() got an unexpected keyword argument 'pass_manager'"
          ]
        }
      ],
      "source": [
        "from qiskit import QuantumCircuit, transpile\n",
        "from qiskit_aer import AerSimulator\n",
        "from qiskit_ibm_runtime import Estimator\n",
        "from qiskit.quantum_info import SparsePauliOp\n",
        "from qiskit.transpiler import generate_preset_pass_manager\n",
        "import numpy as np\n",
        "\n",
        "# Create Bell state circuit\n",
        "qc = QuantumCircuit(2)\n",
        "qc.h(0)\n",
        "qc.cx(0, 1)\n",
        "\n",
        "# Define ZZ observable\n",
        "observable = SparsePauliOp.from_list([(\"ZZ\", 1)])\n",
        "\n",
        "# Initialize AerSimulator backend\n",
        "backend = AerSimulator()\n",
        "\n",
        "# Transpile the circuit with preset pass manager for backend\n",
        "pass_manager = generate_preset_pass_manager(backend=backend, optimization_level=1)\n",
        "transpiled_qc = transpile(qc, backend=backend, pass_manager=pass_manager)\n",
        "\n",
        "# Initialize Estimator primitive with AerSimulator backend\n",
        "estimator = Estimator(backend=backend)\n",
        "\n",
        "# Run the Estimator on the (circuit, observable) tuple\n",
        "result = estimator.run([(transpiled_qc, observable)]).result()\n",
        "\n",
        "# Retrieve expectation value from the result\n",
        "expectation_value = result.values[0]\n",
        "\n",
        "print(\"Expectation value ⟨ZZ⟩:\", expectation_value)\n"
      ]
    },
    {
      "cell_type": "markdown",
      "metadata": {
        "id": "q8lfXhd0sxUz"
      },
      "source": [
        "---"
      ]
    },
    {
      "cell_type": "markdown",
      "metadata": {
        "id": "0t5hD7-QsxUz"
      },
      "source": [
        "## 14. Error Mitigation Techniques\n",
        "\n",
        "**Explanation:** Qiskit provides techniques to reduce the impact of noise on quantum hardware. **Readout error mitigation** corrects for errors in the final measurement step. **Dynamical Decoupling (DD)** inserts pulse sequences during idle times to protect qubits from decoherence. **Zero-Noise Extrapolation (ZNE)** runs circuits at different noise levels and extrapolates the result back to the zero-noise limit."
      ]
    },
    {
      "cell_type": "markdown",
      "metadata": {
        "id": "rDYLqEPisxUz"
      },
      "source": [
        "**Exercise 14:** This is a conceptual question. You are running a circuit on a noisy backend and suspect that the qubits are losing their quantum state (decohering) during idle periods in the circuit. Which error *suppression* technique would be most appropriate to apply?"
      ]
    },
    {
      "cell_type": "markdown",
      "metadata": {
        "id": "FTkbVqPHsxUz"
      },
      "source": [
        "The most appropriate error suppression technique to apply when qubits are losing their quantum state (decohering) during idle periods in the circuit is Dynamical Decoupling (DD).\n",
        "\n",
        "Explanation:\n",
        "Dynamical Decoupling works by inserting carefully designed pulse sequences during idle times to protect qubits from decoherence errors caused by unwanted interactions with the environment.\n",
        "\n",
        "These pulse sequences effectively cancel out noise accumulated while qubits are idle, preserving coherence without affecting the intended computation.\n",
        "\n",
        "DD is especially effective when circuits have gaps with qubits sitting idle, as it adds identity-like operations that suppress error buildup.\n",
        "\n",
        "It is a low-overhead, well-established technique supported by Qiskit and widely used in quantum hardware experiments.\n",
        "\n",
        "Therefore, applying Dynamical Decoupling during idle periods is the best way to suppress decoherence errors in this scenario."
      ]
    },
    {
      "cell_type": "markdown",
      "metadata": {
        "id": "Kf7105rSsxUz"
      },
      "source": [
        "---"
      ]
    },
    {
      "cell_type": "markdown",
      "metadata": {
        "id": "4bB91-FdsxUz"
      },
      "source": [
        "## 15. OpenQASM 3 Basics\n",
        "\n",
        "**Explanation:** OpenQASM 3 is the latest version of the quantum assembly language. It has a more expressive syntax than its predecessor. For example, you declare a register of three qubits with `qubit[3] my_qubits;` and a classical bit register with `bit[2] c;`."
      ]
    },
    {
      "cell_type": "markdown",
      "metadata": {
        "id": "npyWyr8RsxUz"
      },
      "source": [
        "**Exercise 15:** Complete the OpenQASM 3 string below to create a Bell state between `q[0]` and `q[1]`."
      ]
    },
    {
      "cell_type": "code",
      "execution_count": 21,
      "metadata": {
        "id": "ZyaVHqTWsxUz",
        "colab": {
          "base_uri": "https://localhost:8080/"
        },
        "outputId": "d9e1c278-7010-445a-b7f6-e4e8c91edad7"
      },
      "outputs": [
        {
          "output_type": "stream",
          "name": "stdout",
          "text": [
            "\n",
            "OPENQASM 3.0;\n",
            "include \"stdgates.inc\";\n",
            "qubit[2] q;\n",
            "bit[2] c;\n",
            "// Your code here (2 lines)\n",
            "\n",
            "c = measure q;\n",
            "\n"
          ]
        }
      ],
      "source": [
        "qasm3_string = '''\n",
        "OPENQASM 3.0;\n",
        "include \"stdgates.inc\";\n",
        "qubit[2] q;\n",
        "bit[2] c;\n",
        "// Your code here (2 lines)\n",
        "\n",
        "c = measure q;\n",
        "'''\n",
        "\n",
        "print(qasm3_string)"
      ]
    },
    {
      "cell_type": "markdown",
      "metadata": {
        "id": "ksL17YwPsxUz"
      },
      "source": [
        "---"
      ]
    },
    {
      "cell_type": "markdown",
      "metadata": {
        "id": "tWKvhmP-sxUz"
      },
      "source": [
        "## 16. OpenQASM 3 vs OpenQASM 2 – New Features\n",
        "\n",
        "**Explanation:** OpenQASM 3 introduced significant improvements over OpenQASM 2, most notably expanding beyond simple gate-based circuits. A major enhancement involves programming constructs that allow quantum programs to make decisions and repeat operations based on classical data and measurement outcomes, enabling more dynamic and adaptive quantum algorithms."
      ]
    },
    {
      "cell_type": "markdown",
      "metadata": {
        "id": "jkG5nNxHsxUz"
      },
      "source": [
        "**Exercise 16:** This is a conceptual question. What is a major feature related to classical logic that is present in OpenQASM 3 but completely absent in OpenQASM 2?"
      ]
    },
    {
      "cell_type": "markdown",
      "metadata": {
        "id": "osm9n7vAsxUz"
      },
      "source": [
        "A major feature related to classical logic that is present in OpenQASM 3 but completely absent in OpenQASM 2 is classical control flow, including conditional branching (if-else statements) and loops (for, while) based on classical data and measurement outcomes.\n",
        "\n",
        "OpenQASM 3 extends the language beyond static, gate-based quantum circuits by allowing dynamic, adaptive quantum programs that incorporate real-time classical computation and decision-making within the quantum program itself. This enables sophisticated hybrid quantum-classical algorithms with feedback, iteration, and dynamic control, which OpenQASM 2 cannot express because it lacks any classical logic constructs inside quantum programs.​\n",
        "\n",
        "In summary, OpenQASM 3 adds classical programming constructs such as if-else branching and looping inside quantum circuits for dynamic and adaptive quantum computations, a capability absent in OpenQASM 2."
      ]
    },
    {
      "cell_type": "markdown",
      "metadata": {
        "id": "yade6IK8sxU0"
      },
      "source": [
        "---"
      ]
    },
    {
      "cell_type": "markdown",
      "metadata": {
        "id": "ok4NJ6TdsxU0"
      },
      "source": [
        "## 17. Interfacing OpenQASM with Qiskit\n",
        "\n",
        "**Explanation:** Qiskit provides tools to convert between `QuantumCircuit` objects and OpenQASM 3 strings. To import an OpenQASM 3 string into a Qiskit circuit, you can use the `qiskit.qasm3.loads()` function."
      ]
    },
    {
      "cell_type": "markdown",
      "metadata": {
        "id": "7ogk0zgHsxU0"
      },
      "source": [
        "**Exercise 17:** Using the OpenQASM 3 string you created in Exercise 15, write the Python code to:\n",
        "1. Convert it into a Qiskit `QuantumCircuit` object named `qc_from_qasm`.\n",
        "2. Draw the circuit"
      ]
    },
    {
      "cell_type": "code",
      "execution_count": 23,
      "metadata": {
        "id": "X3MipQHNsxU0"
      },
      "outputs": [],
      "source": [
        "from qiskit.qasm3 import loads\n",
        "import matplotlib.pyplot as plt\n",
        "\n",
        "qasm3_string_for_import = '''\n",
        "OPENQASM 3.0;\n",
        "include \"stdgates.inc\";\n",
        "qubit[2] q;\n",
        "bit[2] c;\n",
        "h q[0];\n",
        "cx q[0], q[1];\n",
        "c = measure q;\n",
        "'''\n",
        "\n",
        "# Convert OpenQASM 3 string to QuantumCircuit\n",
        "qc_from_qasm = loads(qasm3_string_for_import)\n",
        "\n",
        "# Draw the circuit\n",
        "qc_from_qasm.draw(output='mpl')\n",
        "plt.show()\n"
      ]
    },
    {
      "cell_type": "markdown",
      "metadata": {
        "id": "WXQhq5gOsxU0"
      },
      "source": [
        "---"
      ]
    },
    {
      "cell_type": "markdown",
      "metadata": {
        "id": "hpZJo12IsxU0"
      },
      "source": [
        "## 18. Qiskit IBM Runtime API\n",
        "\n",
        "**Explanation:** Modern quantum applications often need to integrate quantum computations into broader software workflows. IBM Quantum provides cloud-based services that can be accessed programmatically from various programming environments beyond Python. Proper authentication credentials are required to access these services."
      ]
    },
    {
      "cell_type": "markdown",
      "metadata": {
        "id": "E2JuM14esxU0"
      },
      "source": [
        "**Exercise 18:** This is a conceptual question. You are building a web application backend using Node.js, Go, or another non-Python language, and you need to submit quantum jobs to IBM's quantum computers. What approach would you use to access IBM's quantum computing services programmatically, and what is the most important piece of information you would need to authenticate your requests?"
      ]
    },
    {
      "cell_type": "markdown",
      "metadata": {
        "id": "OM5UtOW4sxU0"
      },
      "source": [
        "Ans: IBM Quantum’s REST API."
      ]
    },
    {
      "cell_type": "markdown",
      "source": [
        "---"
      ],
      "metadata": {
        "id": "8fA7a5M9Q9-P"
      }
    },
    {
      "cell_type": "markdown",
      "source": [
        "## 19. Running on real IBM Quantum hardware\n",
        "\n",
        "**Explanation:** In a previous exercise, you used the `Sampler` primitive from `qiskit_ibm_runtime` with the `AerSimulator` local simulator. Here you'll run the `Sampler` primitive on a real IBM Quantum computer."
      ],
      "metadata": {
        "id": "N6M-7CgzQy0r"
      }
    },
    {
      "cell_type": "markdown",
      "source": [
        "**Exercise 19:**\n",
        "Edit the code below in the following way:\n",
        "1. Comment out the following line:\n",
        "```\n",
        "backend = AerSimulator()\n",
        "```\n",
        "2. Add the following lines immediately after:\n",
        "```\n",
        "service = QiskitRuntimeService(name=\"fallfest-2025\")\n",
        "backend = service.least_busy(operational=True, simulator=False)\n",
        "```\n"
      ],
      "metadata": {
        "id": "0mNK5DaZRU2y"
      }
    },
    {
      "cell_type": "code",
      "source": [
        "i dont have an api key and also dont know about crn\n",
        "\n",
        "# your_api_key = \"deleteThisAndPasteYourAPIKeyHere\"\n",
        "# your_crn = \"deleteThisAndPasteYourCRNHere\"\n",
        "\n",
        "# QiskitRuntimeService.save_account(\n",
        "#     channel=\"ibm_quantum_platform\",\n",
        "#     token=your_api_key,\n",
        "#     instance=your_crn,\n",
        "#     name=\"fallfest-2025\",\n",
        "# )\n",
        "\n",
        "# Check that the account has been saved properly\n",
        "# service = QiskitRuntimeService(name=\"fallfest-2025\")\n",
        "# print(service.saved_accounts())\n",
        "\n",
        "bell = QuantumCircuit(2)\n",
        "bell.h(0)\n",
        "bell.cx(0, 1)\n",
        "bell.measure_all()\n",
        "\n",
        "backend = AerSimulator()\n",
        "\n",
        "pm = generate_preset_pass_manager(backend=backend, optimization_level=1)\n",
        "isa_bell = pm.run(bell)\n",
        "\n",
        "sampler = Sampler(mode=backend)\n",
        "\n",
        "job = sampler.run([isa_bell], shots=5000)\n",
        "result = job.result()\n",
        "\n",
        "counts = result[0].data.meas.get_counts()\n",
        "print(f'Measurement counts: {counts}')"
      ],
      "metadata": {
        "id": "eWzaP9rkRTE4"
      },
      "execution_count": null,
      "outputs": []
    }
  ],
  "metadata": {
    "kernelspec": {
      "display_name": "Python 3",
      "language": "python",
      "name": "python3"
    },
    "language_info": {
      "codemirror_mode": {
        "name": "ipython",
        "version": 3
      },
      "file_extension": ".py",
      "mimetype": "text/x-python",
      "name": "python",
      "nbconvert_exporter": "python",
      "pygments_lexer": "ipython3",
      "version": "3.9.7"
    },
    "colab": {
      "provenance": [],
      "include_colab_link": true
    }
  },
  "nbformat": 4,
  "nbformat_minor": 0
}